{
 "cells": [
  {
   "cell_type": "markdown",
   "metadata": {
    "collapsed": true
   },
   "source": [
    "# Language Translation\n",
    "In this project, you’re going to take a peek into the realm of neural network machine translation.  You’ll be training a sequence to sequence model on a dataset of English and French sentences that can translate new sentences from English to French.\n",
    "## Get the Data\n",
    "Since translating the whole language of English to French will take lots of time to train, we have provided you with a small portion of the English corpus."
   ]
  },
  {
   "cell_type": "code",
   "execution_count": 24,
   "metadata": {
    "collapsed": true
   },
   "outputs": [],
   "source": [
    "\"\"\"\n",
    "DON'T MODIFY ANYTHING IN THIS CELL\n",
    "\"\"\"\n",
    "import helper\n",
    "import problem_unittests as tests\n",
    "\n",
    "source_path = 'data/small_vocab_en'\n",
    "target_path = 'data/small_vocab_fr'\n",
    "source_text = helper.load_data(source_path)\n",
    "target_text = helper.load_data(target_path)"
   ]
  },
  {
   "cell_type": "markdown",
   "metadata": {},
   "source": [
    "## Explore the Data\n",
    "Play around with view_sentence_range to view different parts of the data."
   ]
  },
  {
   "cell_type": "code",
   "execution_count": 25,
   "metadata": {
    "collapsed": false
   },
   "outputs": [
    {
     "name": "stdout",
     "output_type": "stream",
     "text": [
      "Dataset Stats\n",
      "Roughly the number of unique words: 227\n",
      "Number of sentences: 137861\n",
      "Average number of words in a sentence: 13.225277634719028\n",
      "\n",
      "English sentences 0 to 10:\n",
      "new jersey is sometimes quiet during autumn , and it is snowy in april .\n",
      "the united states is usually chilly during july , and it is usually freezing in november .\n",
      "california is usually quiet during march , and it is usually hot in june .\n",
      "the united states is sometimes mild during june , and it is cold in september .\n",
      "your least liked fruit is the grape , but my least liked is the apple .\n",
      "his favorite fruit is the orange , but my favorite is the grape .\n",
      "paris is relaxing during december , but it is usually chilly in july .\n",
      "new jersey is busy during spring , and it is never hot in march .\n",
      "our least liked fruit is the lemon , but my least liked is the grape .\n",
      "the united states is sometimes busy during january , and it is sometimes warm in november .\n",
      "\n",
      "French sentences 0 to 10:\n",
      "new jersey est parfois calme pendant l' automne , et il est neigeux en avril .\n",
      "les états-unis est généralement froid en juillet , et il gèle habituellement en novembre .\n",
      "california est généralement calme en mars , et il est généralement chaud en juin .\n",
      "les états-unis est parfois légère en juin , et il fait froid en septembre .\n",
      "votre moins aimé fruit est le raisin , mais mon moins aimé est la pomme .\n",
      "son fruit préféré est l'orange , mais mon préféré est le raisin .\n",
      "paris est relaxant en décembre , mais il est généralement froid en juillet .\n",
      "new jersey est occupé au printemps , et il est jamais chaude en mars .\n",
      "notre fruit est moins aimé le citron , mais mon moins aimé est le raisin .\n",
      "les états-unis est parfois occupé en janvier , et il est parfois chaud en novembre .\n"
     ]
    }
   ],
   "source": [
    "view_sentence_range = (0, 10)\n",
    "\n",
    "\"\"\"\n",
    "DON'T MODIFY ANYTHING IN THIS CELL\n",
    "\"\"\"\n",
    "import numpy as np\n",
    "\n",
    "print('Dataset Stats')\n",
    "print('Roughly the number of unique words: {}'.format(len({word: None for word in source_text.split()})))\n",
    "\n",
    "sentences = source_text.split('\\n')\n",
    "word_counts = [len(sentence.split()) for sentence in sentences]\n",
    "print('Number of sentences: {}'.format(len(sentences)))\n",
    "print('Average number of words in a sentence: {}'.format(np.average(word_counts)))\n",
    "\n",
    "print()\n",
    "print('English sentences {} to {}:'.format(*view_sentence_range))\n",
    "print('\\n'.join(source_text.split('\\n')[view_sentence_range[0]:view_sentence_range[1]]))\n",
    "print()\n",
    "print('French sentences {} to {}:'.format(*view_sentence_range))\n",
    "print('\\n'.join(target_text.split('\\n')[view_sentence_range[0]:view_sentence_range[1]]))"
   ]
  },
  {
   "cell_type": "markdown",
   "metadata": {},
   "source": [
    "## Implement Preprocessing Function\n",
    "### Text to Word Ids\n",
    "As you did with other RNNs, you must turn the text into a number so the computer can understand it. In the function `text_to_ids()`, you'll turn `source_text` and `target_text` from words to ids.  However, you need to add the `<EOS>` word id at the end of `target_text`.  This will help the neural network predict when the sentence should end.\n",
    "\n",
    "You can get the `<EOS>` word id by doing:\n",
    "```python\n",
    "target_vocab_to_int['<EOS>']\n",
    "```\n",
    "You can get other word ids using `source_vocab_to_int` and `target_vocab_to_int`."
   ]
  },
  {
   "cell_type": "code",
   "execution_count": 26,
   "metadata": {
    "collapsed": false
   },
   "outputs": [
    {
     "name": "stdout",
     "output_type": "stream",
     "text": [
      "Tests Passed\n"
     ]
    }
   ],
   "source": [
    "def text_to_ids(source_text, target_text, source_vocab_to_int, target_vocab_to_int):\n",
    "    \"\"\"\n",
    "    Convert source and target text to proper word ids\n",
    "    :param source_text: String that contains all the source text.\n",
    "    :param target_text: String that contains all the target text.\n",
    "    :param source_vocab_to_int: Dictionary to go from the source words to an id\n",
    "    :param target_vocab_to_int: Dictionary to go from the target words to an id\n",
    "    :return: A tuple of lists (source_id_text, target_id_text)\n",
    "    \"\"\"\n",
    "    # TODO: Implement Function\n",
    "    source_sentences = source_text.split('\\n')\n",
    "    target_sentences = [sentence + ' <EOS>' for sentence in target_text.split('\\n')]\n",
    "    source_ids = list(map(lambda x: [source_vocab_to_int[word] for word in x.split()], source_sentences))\n",
    "    target_ids = list(map(lambda x: [target_vocab_to_int[word] for word in x.split()], target_sentences))\n",
    "    return source_ids, target_ids\n",
    "\n",
    "\"\"\"\n",
    "DON'T MODIFY ANYTHING IN THIS CELL THAT IS BELOW THIS LINE\n",
    "\"\"\"\n",
    "tests.test_text_to_ids(text_to_ids)"
   ]
  },
  {
   "cell_type": "markdown",
   "metadata": {},
   "source": [
    "### Preprocess all the data and save it\n",
    "Running the code cell below will preprocess all the data and save it to file."
   ]
  },
  {
   "cell_type": "code",
   "execution_count": 27,
   "metadata": {
    "collapsed": true
   },
   "outputs": [],
   "source": [
    "\"\"\"\n",
    "DON'T MODIFY ANYTHING IN THIS CELL\n",
    "\"\"\"\n",
    "helper.preprocess_and_save_data(source_path, target_path, text_to_ids)"
   ]
  },
  {
   "cell_type": "markdown",
   "metadata": {},
   "source": [
    "# Check Point\n",
    "This is your first checkpoint. If you ever decide to come back to this notebook or have to restart the notebook, you can start from here. The preprocessed data has been saved to disk."
   ]
  },
  {
   "cell_type": "code",
   "execution_count": 28,
   "metadata": {
    "collapsed": true
   },
   "outputs": [],
   "source": [
    "\"\"\"\n",
    "DON'T MODIFY ANYTHING IN THIS CELL\n",
    "\"\"\"\n",
    "import numpy as np\n",
    "import helper\n",
    "import problem_unittests as tests\n",
    "\n",
    "(source_int_text, target_int_text), (source_vocab_to_int, target_vocab_to_int), _ = helper.load_preprocess()"
   ]
  },
  {
   "cell_type": "markdown",
   "metadata": {},
   "source": [
    "### Check the Version of TensorFlow and Access to GPU\n",
    "This will check to make sure you have the correct version of TensorFlow and access to a GPU"
   ]
  },
  {
   "cell_type": "code",
   "execution_count": 29,
   "metadata": {
    "collapsed": false
   },
   "outputs": [
    {
     "name": "stdout",
     "output_type": "stream",
     "text": [
      "TensorFlow Version: 1.2.1\n"
     ]
    },
    {
     "name": "stderr",
     "output_type": "stream",
     "text": [
      "C:\\Users\\Dawn\\Anaconda\\lib\\site-packages\\ipykernel\\__main__.py:15: UserWarning: No GPU found. Please use a GPU to train your neural network.\n"
     ]
    }
   ],
   "source": [
    "\"\"\"\n",
    "DON'T MODIFY ANYTHING IN THIS CELL\n",
    "\"\"\"\n",
    "from distutils.version import LooseVersion\n",
    "import warnings\n",
    "import tensorflow as tf\n",
    "from tensorflow.python.layers.core import Dense\n",
    "\n",
    "# Check TensorFlow Version\n",
    "assert LooseVersion(tf.__version__) >= LooseVersion('1.1'), 'Please use TensorFlow version 1.1 or newer'\n",
    "print('TensorFlow Version: {}'.format(tf.__version__))\n",
    "\n",
    "# Check for a GPU\n",
    "if not tf.test.gpu_device_name():\n",
    "    warnings.warn('No GPU found. Please use a GPU to train your neural network.')\n",
    "else:\n",
    "    print('Default GPU Device: {}'.format(tf.test.gpu_device_name()))"
   ]
  },
  {
   "cell_type": "markdown",
   "metadata": {},
   "source": [
    "## Build the Neural Network\n",
    "You'll build the components necessary to build a Sequence-to-Sequence model by implementing the following functions below:\n",
    "- `model_inputs`\n",
    "- `process_decoder_input`\n",
    "- `encoding_layer`\n",
    "- `decoding_layer_train`\n",
    "- `decoding_layer_infer`\n",
    "- `decoding_layer`\n",
    "- `seq2seq_model`\n",
    "\n",
    "### Input\n",
    "Implement the `model_inputs()` function to create TF Placeholders for the Neural Network. It should create the following placeholders:\n",
    "\n",
    "- Input text placeholder named \"input\" using the TF Placeholder name parameter with rank 2.\n",
    "- Targets placeholder with rank 2.\n",
    "- Learning rate placeholder with rank 0.\n",
    "- Keep probability placeholder named \"keep_prob\" using the TF Placeholder name parameter with rank 0.\n",
    "- Target sequence length placeholder named \"target_sequence_length\" with rank 1\n",
    "- Max target sequence length tensor named \"max_target_len\" getting its value from applying tf.reduce_max on the target_sequence_length placeholder. Rank 0.\n",
    "- Source sequence length placeholder named \"source_sequence_length\" with rank 1\n",
    "\n",
    "Return the placeholders in the following the tuple (input, targets, learning rate, keep probability, target sequence length, max target sequence length, source sequence length)"
   ]
  },
  {
   "cell_type": "code",
   "execution_count": 30,
   "metadata": {
    "collapsed": false
   },
   "outputs": [
    {
     "name": "stdout",
     "output_type": "stream",
     "text": [
      "Tests Passed\n"
     ]
    }
   ],
   "source": [
    "def model_inputs():\n",
    "    \"\"\"\n",
    "    Create TF Placeholders for input, targets, learning rate, and lengths of source and target sequences.\n",
    "    :return: Tuple (input, targets, learning rate, keep probability, target sequence length,\n",
    "    max target sequence length, source sequence length)\n",
    "    \"\"\"\n",
    "    # TODO: Implement Function\n",
    "    \n",
    "    input = tf.placeholder(tf.int32,shape=[None,None],name='input')\n",
    "    targets = tf.placeholder(tf.int32,shape=[None,None],name='targets')\n",
    "    learningrate = tf.placeholder(tf.float32,shape=[],name='learningrate')\n",
    "    keep_prob = tf.placeholder(tf.float32,shape=[],name='keep_prob')\n",
    "    target_sequence_length = tf.placeholder(tf.int32,[None,],name='target_sequence_length')\n",
    "    max_target_length = tf.reduce_max(target_sequence_length)\n",
    "    source_sequence_length = tf.placeholder(tf.int32,[None,],name='source_sequence_length')\n",
    "    \n",
    "    return (input,targets,learningrate,keep_prob,target_sequence_length,max_target_length,source_sequence_length)\n",
    "\n",
    "\"\"\"\n",
    "DON'T MODIFY ANYTHING IN THIS CELL THAT IS BELOW THIS LINE\n",
    "\"\"\"\n",
    "tests.test_model_inputs(model_inputs)"
   ]
  },
  {
   "cell_type": "markdown",
   "metadata": {},
   "source": [
    "### Process Decoder Input\n",
    "Implement `process_decoder_input` by removing the last word id from each batch in `target_data` and concat the GO ID to the begining of each batch."
   ]
  },
  {
   "cell_type": "code",
   "execution_count": 31,
   "metadata": {
    "collapsed": false
   },
   "outputs": [
    {
     "name": "stdout",
     "output_type": "stream",
     "text": [
      "Tests Passed\n"
     ]
    }
   ],
   "source": [
    "def process_decoder_input(target_data, target_vocab_to_int, batch_size):\n",
    "    \"\"\"\n",
    "    Preprocess target data for encoding\n",
    "    :param target_data: Target Placehoder\n",
    "    :param target_vocab_to_int: Dictionary to go from the target words to an id\n",
    "    :param batch_size: Batch Size\n",
    "    :return: Preprocessed target data\n",
    "    \"\"\"\n",
    "    # TODO: Implement Function\n",
    "    ending = tf.strided_slice(target_data, [0,0], [batch_size, -1], [1,1])\n",
    "    decoder_input = tf.concat([tf.fill([batch_size,1], target_vocab_to_int['<GO>']), ending], 1)\n",
    "    return decoder_input\n",
    "\n",
    "\n",
    "\"\"\"\n",
    "DON'T MODIFY ANYTHING IN THIS CELL THAT IS BELOW THIS LINE\n",
    "\"\"\"\n",
    "tests.test_process_encoding_input(process_decoder_input)"
   ]
  },
  {
   "cell_type": "markdown",
   "metadata": {},
   "source": [
    "### Encoding\n",
    "Implement `encoding_layer()` to create a Encoder RNN layer:\n",
    " * Embed the encoder input using [`tf.contrib.layers.embed_sequence`](https://www.tensorflow.org/api_docs/python/tf/contrib/layers/embed_sequence)\n",
    " * Construct a [stacked](https://github.com/tensorflow/tensorflow/blob/6947f65a374ebf29e74bb71e36fd82760056d82c/tensorflow/docs_src/tutorials/recurrent.md#stacking-multiple-lstms) [`tf.contrib.rnn.LSTMCell`](https://www.tensorflow.org/api_docs/python/tf/contrib/rnn/LSTMCell) wrapped in a [`tf.contrib.rnn.DropoutWrapper`](https://www.tensorflow.org/api_docs/python/tf/contrib/rnn/DropoutWrapper)\n",
    " * Pass cell and embedded input to [`tf.nn.dynamic_rnn()`](https://www.tensorflow.org/api_docs/python/tf/nn/dynamic_rnn)"
   ]
  },
  {
   "cell_type": "code",
   "execution_count": 32,
   "metadata": {
    "collapsed": false,
    "scrolled": false
   },
   "outputs": [
    {
     "name": "stdout",
     "output_type": "stream",
     "text": [
      "Tests Passed\n"
     ]
    }
   ],
   "source": [
    "from imp import reload\n",
    "reload(tests)\n",
    "\n",
    "def encoding_layer(rnn_inputs, rnn_size, num_layers, keep_prob, \n",
    "                   source_sequence_length, source_vocab_size, \n",
    "                   encoding_embedding_size):\n",
    "    \"\"\"\n",
    "    Create encoding layer\n",
    "    :param rnn_inputs: Inputs for the RNN\n",
    "    :param rnn_size: RNN Size\n",
    "    :param num_layers: Number of layers\n",
    "    :param keep_prob: Dropout keep probability\n",
    "    :param source_sequence_length: a list of the lengths of each sequence in the batch\n",
    "    :param source_vocab_size: vocabulary size of source data\n",
    "    :param encoding_embedding_size: embedding size of source data\n",
    "    :return: tuple (RNN output, RNN state)\n",
    "    \"\"\"\n",
    "    # TODO: Implement Function\n",
    "    enc_embed = tf.contrib.layers.embed_sequence(rnn_inputs, source_vocab_size, encoding_embedding_size)\n",
    "    \n",
    "    def create_cell(rnn_size):\n",
    "        lstm_cell = tf.contrib.rnn.LSTMCell(rnn_size,initializer=tf.random_uniform_initializer(-0.1,0.1,seed=2))\n",
    "        drop = tf.contrib.rnn.DropoutWrapper(lstm_cell, output_keep_prob=keep_prob)\n",
    "        return drop\n",
    "    \n",
    "    enc_cell = tf.contrib.rnn.MultiRNNCell([create_cell(rnn_size) for _ in range(num_layers)])\n",
    "    encoding_output, encoding_state = tf.nn.dynamic_rnn(enc_cell, enc_embed, \n",
    "                                                        sequence_length=source_sequence_length,dtype=tf.float32)\n",
    "    \n",
    "    return encoding_output, encoding_state\n",
    "\"\"\"\n",
    "DON'T MODIFY ANYTHING IN THIS CELL THAT IS BELOW THIS LINE\n",
    "\"\"\"\n",
    "tests.test_encoding_layer(encoding_layer)"
   ]
  },
  {
   "cell_type": "markdown",
   "metadata": {},
   "source": [
    "### Decoding - Training\n",
    "Create a training decoding layer:\n",
    "* Create a [`tf.contrib.seq2seq.TrainingHelper`](https://www.tensorflow.org/api_docs/python/tf/contrib/seq2seq/TrainingHelper) \n",
    "* Create a [`tf.contrib.seq2seq.BasicDecoder`](https://www.tensorflow.org/api_docs/python/tf/contrib/seq2seq/BasicDecoder)\n",
    "* Obtain the decoder outputs from [`tf.contrib.seq2seq.dynamic_decode`](https://www.tensorflow.org/api_docs/python/tf/contrib/seq2seq/dynamic_decode)"
   ]
  },
  {
   "cell_type": "code",
   "execution_count": 33,
   "metadata": {
    "collapsed": false
   },
   "outputs": [
    {
     "name": "stdout",
     "output_type": "stream",
     "text": [
      "Tests Passed\n"
     ]
    }
   ],
   "source": [
    "\n",
    "def decoding_layer_train(encoder_state, dec_cell, dec_embed_input, \n",
    "                         target_sequence_length, max_summary_length, \n",
    "                         output_layer, keep_prob):\n",
    "    \"\"\"\n",
    "    Create a decoding layer for training\n",
    "    :param encoder_state: Encoder State\n",
    "    :param dec_cell: Decoder RNN Cell\n",
    "    :param dec_embed_input: Decoder embedded input\n",
    "    :param target_sequence_length: The lengths of each sequence in the target batch\n",
    "    :param max_summary_length: The length of the longest sequence in the batch\n",
    "    :param output_layer: Function to apply the output layer\n",
    "    :param keep_prob: Dropout keep probability\n",
    "    :return: BasicDecoderOutput containing training logits and sample_id\n",
    "    \"\"\"\n",
    "    # TODO: Implement Function\n",
    "    train_helper = tf.contrib.seq2seq.TrainingHelper(inputs=dec_embed_input, sequence_length=target_sequence_length,\n",
    "                                                     time_major=False)\n",
    "    \n",
    "    train_decoder = tf.contrib.seq2seq.BasicDecoder(dec_cell, train_helper, encoder_state, output_layer)\n",
    "    \n",
    "    train_decoder_output = tf.contrib.seq2seq.dynamic_decode(train_decoder, impute_finished=True,\n",
    "                                                             maximum_iterations=max_summary_length)[0]\n",
    "    return train_decoder_output\n",
    "\n",
    "\n",
    "\n",
    "\"\"\"\n",
    "DON'T MODIFY ANYTHING IN THIS CELL THAT IS BELOW THIS LINE\n",
    "\"\"\"\n",
    "tests.test_decoding_layer_train(decoding_layer_train)"
   ]
  },
  {
   "cell_type": "markdown",
   "metadata": {},
   "source": [
    "### Decoding - Inference\n",
    "Create inference decoder:\n",
    "* Create a [`tf.contrib.seq2seq.GreedyEmbeddingHelper`](https://www.tensorflow.org/api_docs/python/tf/contrib/seq2seq/GreedyEmbeddingHelper)\n",
    "* Create a [`tf.contrib.seq2seq.BasicDecoder`](https://www.tensorflow.org/api_docs/python/tf/contrib/seq2seq/BasicDecoder)\n",
    "* Obtain the decoder outputs from [`tf.contrib.seq2seq.dynamic_decode`](https://www.tensorflow.org/api_docs/python/tf/contrib/seq2seq/dynamic_decode)"
   ]
  },
  {
   "cell_type": "code",
   "execution_count": 34,
   "metadata": {
    "collapsed": false,
    "scrolled": true
   },
   "outputs": [
    {
     "name": "stdout",
     "output_type": "stream",
     "text": [
      "Tests Passed\n"
     ]
    }
   ],
   "source": [
    "def decoding_layer_infer(encoder_state, dec_cell, dec_embeddings, start_of_sequence_id,\n",
    "                         end_of_sequence_id, max_target_sequence_length,\n",
    "                         vocab_size, output_layer, batch_size, keep_prob):\n",
    "    \"\"\"\n",
    "    Create a decoding layer for inference\n",
    "    :param encoder_state: Encoder state\n",
    "    :param dec_cell: Decoder RNN Cell\n",
    "    :param dec_embeddings: Decoder embeddings\n",
    "    :param start_of_sequence_id: GO ID\n",
    "    :param end_of_sequence_id: EOS Id\n",
    "    :param max_target_sequence_length: Maximum length of target sequences\n",
    "    :param vocab_size: Size of decoder/target vocabulary\n",
    "    :param decoding_scope: TenorFlow Variable Scope for decoding\n",
    "    :param output_layer: Function to apply the output layer\n",
    "    :param batch_size: Batch size\n",
    "    :param keep_prob: Dropout keep probability\n",
    "    :return: BasicDecoderOutput containing inference logits and sample_id\n",
    "    \"\"\"\n",
    "    # TODO: Implement Function\n",
    "    start_tokens = tf.tile(tf.constant([start_of_sequence_id], dtype=tf.int32), [batch_size], name='start_tokens')\n",
    "\n",
    "    inf_helper = tf.contrib.seq2seq.GreedyEmbeddingHelper(dec_embeddings,start_tokens, end_of_sequence_id)\n",
    "    \n",
    "    inf_decoder = tf.contrib.seq2seq.BasicDecoder(dec_cell, inf_helper, encoder_state, output_layer)\n",
    "    \n",
    "    inf_decoder_output = tf.contrib.seq2seq.dynamic_decode(inf_decoder,impute_finished=True,maximum_iterations=max_target_sequence_length)[0]\n",
    "    return inf_decoder_output\n",
    "\n",
    "\n",
    "\n",
    "\n",
    "\"\"\"\n",
    "DON'T MODIFY ANYTHING IN THIS CELL THAT IS BELOW THIS LINE\n",
    "\"\"\"\n",
    "tests.test_decoding_layer_infer(decoding_layer_infer)"
   ]
  },
  {
   "cell_type": "markdown",
   "metadata": {},
   "source": [
    "### Build the Decoding Layer\n",
    "Implement `decoding_layer()` to create a Decoder RNN layer.\n",
    "\n",
    "* Embed the target sequences\n",
    "* Construct the decoder LSTM cell (just like you constructed the encoder cell above)\n",
    "* Create an output layer to map the outputs of the decoder to the elements of our vocabulary\n",
    "* Use the your `decoding_layer_train(encoder_state, dec_cell, dec_embed_input, target_sequence_length, max_target_sequence_length, output_layer, keep_prob)` function to get the training logits.\n",
    "* Use your `decoding_layer_infer(encoder_state, dec_cell, dec_embeddings, start_of_sequence_id, end_of_sequence_id, max_target_sequence_length, vocab_size, output_layer, batch_size, keep_prob)` function to get the inference logits.\n",
    "\n",
    "Note: You'll need to use [tf.variable_scope](https://www.tensorflow.org/api_docs/python/tf/variable_scope) to share variables between training and inference."
   ]
  },
  {
   "cell_type": "code",
   "execution_count": 35,
   "metadata": {
    "collapsed": false
   },
   "outputs": [
    {
     "name": "stdout",
     "output_type": "stream",
     "text": [
      "Tests Passed\n"
     ]
    }
   ],
   "source": [
    "def decoding_layer(dec_input, encoder_state,\n",
    "                   target_sequence_length, max_target_sequence_length,\n",
    "                   rnn_size,\n",
    "                   num_layers, target_vocab_to_int, target_vocab_size,\n",
    "                   batch_size, keep_prob, decoding_embedding_size):\n",
    "    \"\"\"\n",
    "    Create decoding layer\n",
    "    :param dec_input: Decoder input\n",
    "    :param encoder_state: Encoder state\n",
    "    :param target_sequence_length: The lengths of each sequence in the target batch\n",
    "    :param max_target_sequence_length: Maximum length of target sequences\n",
    "    :param rnn_size: RNN Size\n",
    "    :param num_layers: Number of layers\n",
    "    :param target_vocab_to_int: Dictionary to go from the target words to an id\n",
    "    :param target_vocab_size: Size of target vocabulary\n",
    "    :param batch_size: The size of the batch\n",
    "    :param keep_prob: Dropout keep probability\n",
    "    :param decoding_embedding_size: Decoding embedding size\n",
    "    :return: Tuple of (Training BasicDecoderOutput, Inference BasicDecoderOutput)\n",
    "    \"\"\"\n",
    "    # TODO: Implement Function\n",
    "    # 1. Decoder Embedding\n",
    "    dec_embeddings = tf.Variable(tf.random_uniform([target_vocab_size, decoding_embedding_size]))\n",
    "    dec_embed_input = tf.nn.embedding_lookup(dec_embeddings, dec_input)\n",
    "    \n",
    "    # 2. Construct the decoder cell\n",
    "    def create_cell(rnn_size):\n",
    "        lstm_cell = tf.contrib.rnn.LSTMCell(rnn_size,\n",
    "                                            initializer=tf.random_uniform_initializer(-0.1,0.1,seed=2))\n",
    "        drop = tf.contrib.rnn.DropoutWrapper(lstm_cell, output_keep_prob=keep_prob)\n",
    "        return drop\n",
    "\n",
    "    dec_cell = tf.contrib.rnn.MultiRNNCell([create_cell(rnn_size) for _ in range(num_layers)])\n",
    "    \n",
    "    output_layer = Dense(target_vocab_size,\n",
    "                         kernel_initializer = tf.truncated_normal_initializer(mean = 0.0, stddev=0.1))\n",
    "\n",
    "    with tf.variable_scope(\"decode\"):\n",
    "        train_decoder_out = decoding_layer_train(encoder_state, dec_cell, dec_embed_input, \n",
    "                         target_sequence_length, max_target_sequence_length, output_layer, keep_prob)\n",
    "        \n",
    "    with tf.variable_scope(\"decode\", reuse=True):\n",
    "        infer_decoder_out = decoding_layer_infer(encoder_state, dec_cell, dec_embeddings, \n",
    "                             target_vocab_to_int['<GO>'], target_vocab_to_int['<EOS>'], max_target_sequence_length, \n",
    "                             target_vocab_size, output_layer, batch_size, keep_prob)\n",
    "        \n",
    "    return (train_decoder_out, infer_decoder_out)\n",
    "\n",
    "\n",
    "\n",
    "\"\"\"\n",
    "DON'T MODIFY ANYTHING IN THIS CELL THAT IS BELOW THIS LINE\n",
    "\"\"\"\n",
    "tests.test_decoding_layer(decoding_layer)"
   ]
  },
  {
   "cell_type": "markdown",
   "metadata": {},
   "source": [
    "### Build the Neural Network\n",
    "Apply the functions you implemented above to:\n",
    "\n",
    "- Encode the input using your `encoding_layer(rnn_inputs, rnn_size, num_layers, keep_prob,  source_sequence_length, source_vocab_size, encoding_embedding_size)`.\n",
    "- Process target data using your `process_decoder_input(target_data, target_vocab_to_int, batch_size)` function.\n",
    "- Decode the encoded input using your `decoding_layer(dec_input, enc_state, target_sequence_length, max_target_sentence_length, rnn_size, num_layers, target_vocab_to_int, target_vocab_size, batch_size, keep_prob, dec_embedding_size)` function."
   ]
  },
  {
   "cell_type": "code",
   "execution_count": 36,
   "metadata": {
    "collapsed": false
   },
   "outputs": [
    {
     "name": "stdout",
     "output_type": "stream",
     "text": [
      "Tests Passed\n"
     ]
    }
   ],
   "source": [
    "def seq2seq_model(input_data, target_data, keep_prob, batch_size,\n",
    "                  source_sequence_length, target_sequence_length,\n",
    "                  max_target_sentence_length,\n",
    "                  source_vocab_size, target_vocab_size,\n",
    "                  enc_embedding_size, dec_embedding_size,\n",
    "                  rnn_size, num_layers, target_vocab_to_int):\n",
    "    \"\"\"\n",
    "    Build the Sequence-to-Sequence part of the neural network\n",
    "    :param input_data: Input placeholder\n",
    "    :param target_data: Target placeholder\n",
    "    :param keep_prob: Dropout keep probability placeholder\n",
    "    :param batch_size: Batch Size\n",
    "    :param source_sequence_length: Sequence Lengths of source sequences in the batch\n",
    "    :param target_sequence_length: Sequence Lengths of target sequences in the batch\n",
    "    :param source_vocab_size: Source vocabulary size\n",
    "    :param target_vocab_size: Target vocabulary size\n",
    "    :param enc_embedding_size: Decoder embedding size\n",
    "    :param dec_embedding_size: Encoder embedding size\n",
    "    :param rnn_size: RNN Size\n",
    "    :param num_layers: Number of layers\n",
    "    :param target_vocab_to_int: Dictionary to go from the target words to an id\n",
    "    :return: Tuple of (Training BasicDecoderOutput, Inference BasicDecoderOutput)\n",
    "    \"\"\"\n",
    "    # TODO: Implement Function\n",
    "    _, enc_state = encoding_layer(input_data, rnn_size, num_layers, keep_prob, \n",
    "                   source_sequence_length, source_vocab_size, \n",
    "                   enc_embedding_size)\n",
    "    \n",
    "    dec_input = process_decoder_input(target_data, target_vocab_to_int, batch_size)\n",
    "    \n",
    "    training_decoder_output, inference_decoder_output = decoding_layer(dec_input, enc_state,\n",
    "                   target_sequence_length, max_target_sentence_length,\n",
    "                   rnn_size,\n",
    "                   num_layers, target_vocab_to_int, target_vocab_size,\n",
    "                   batch_size, keep_prob, dec_embedding_size)\n",
    "    \n",
    "    return training_decoder_output, inference_decoder_output\n",
    "\n",
    "\n",
    "\"\"\"\n",
    "DON'T MODIFY ANYTHING IN THIS CELL THAT IS BELOW THIS LINE\n",
    "\"\"\"\n",
    "tests.test_seq2seq_model(seq2seq_model)"
   ]
  },
  {
   "cell_type": "markdown",
   "metadata": {},
   "source": [
    "## Neural Network Training\n",
    "### Hyperparameters\n",
    "Tune the following parameters:\n",
    "\n",
    "- Set `epochs` to the number of epochs.\n",
    "- Set `batch_size` to the batch size.\n",
    "- Set `rnn_size` to the size of the RNNs.\n",
    "- Set `num_layers` to the number of layers.\n",
    "- Set `encoding_embedding_size` to the size of the embedding for the encoder.\n",
    "- Set `decoding_embedding_size` to the size of the embedding for the decoder.\n",
    "- Set `learning_rate` to the learning rate.\n",
    "- Set `keep_probability` to the Dropout keep probability\n",
    "- Set `display_step` to state how many steps between each debug output statement"
   ]
  },
  {
   "cell_type": "code",
   "execution_count": 38,
   "metadata": {
    "collapsed": true
   },
   "outputs": [],
   "source": [
    "# Number of Epochs\n",
    "epochs = 3\n",
    "# Batch Size\n",
    "batch_size = 128\n",
    "# RNN Size\n",
    "rnn_size = 256\n",
    "# Number of Layers\n",
    "num_layers = 2\n",
    "# Embedding Size\n",
    "encoding_embedding_size = 128\n",
    "decoding_embedding_size = 128\n",
    "# Learning Rate\n",
    "learning_rate = 0.004\n",
    "# Dropout Keep Probability\n",
    "keep_probability = 0.8\n",
    "display_step = 10"
   ]
  },
  {
   "cell_type": "markdown",
   "metadata": {},
   "source": [
    "### Build the Graph\n",
    "Build the graph using the neural network you implemented."
   ]
  },
  {
   "cell_type": "code",
   "execution_count": 39,
   "metadata": {
    "collapsed": true
   },
   "outputs": [],
   "source": [
    "\"\"\"\n",
    "DON'T MODIFY ANYTHING IN THIS CELL\n",
    "\"\"\"\n",
    "save_path = 'checkpoints/dev'\n",
    "(source_int_text, target_int_text), (source_vocab_to_int, target_vocab_to_int), _ = helper.load_preprocess()\n",
    "max_target_sentence_length = max([len(sentence) for sentence in source_int_text])\n",
    "\n",
    "train_graph = tf.Graph()\n",
    "with train_graph.as_default():\n",
    "    input_data, targets, lr, keep_prob, target_sequence_length, max_target_sequence_length, source_sequence_length = model_inputs()\n",
    "\n",
    "    #sequence_length = tf.placeholder_with_default(max_target_sentence_length, None, name='sequence_length')\n",
    "    input_shape = tf.shape(input_data)\n",
    "\n",
    "    train_logits, inference_logits = seq2seq_model(tf.reverse(input_data, [-1]),\n",
    "                                                   targets,\n",
    "                                                   keep_prob,\n",
    "                                                   batch_size,\n",
    "                                                   source_sequence_length,\n",
    "                                                   target_sequence_length,\n",
    "                                                   max_target_sequence_length,\n",
    "                                                   len(source_vocab_to_int),\n",
    "                                                   len(target_vocab_to_int),\n",
    "                                                   encoding_embedding_size,\n",
    "                                                   decoding_embedding_size,\n",
    "                                                   rnn_size,\n",
    "                                                   num_layers,\n",
    "                                                   target_vocab_to_int)\n",
    "\n",
    "\n",
    "    training_logits = tf.identity(train_logits.rnn_output, name='logits')\n",
    "    inference_logits = tf.identity(inference_logits.sample_id, name='predictions')\n",
    "\n",
    "    masks = tf.sequence_mask(target_sequence_length, max_target_sequence_length, dtype=tf.float32, name='masks')\n",
    "\n",
    "    with tf.name_scope(\"optimization\"):\n",
    "        # Loss function\n",
    "        cost = tf.contrib.seq2seq.sequence_loss(\n",
    "            training_logits,\n",
    "            targets,\n",
    "            masks)\n",
    "\n",
    "        # Optimizer\n",
    "        optimizer = tf.train.AdamOptimizer(lr)\n",
    "\n",
    "        # Gradient Clipping\n",
    "        gradients = optimizer.compute_gradients(cost)\n",
    "        capped_gradients = [(tf.clip_by_value(grad, -1., 1.), var) for grad, var in gradients if grad is not None]\n",
    "        train_op = optimizer.apply_gradients(capped_gradients)\n"
   ]
  },
  {
   "cell_type": "markdown",
   "metadata": {},
   "source": [
    "Batch and pad the source and target sequences"
   ]
  },
  {
   "cell_type": "code",
   "execution_count": 40,
   "metadata": {
    "collapsed": true
   },
   "outputs": [],
   "source": [
    "\"\"\"\n",
    "DON'T MODIFY ANYTHING IN THIS CELL\n",
    "\"\"\"\n",
    "def pad_sentence_batch(sentence_batch, pad_int):\n",
    "    \"\"\"Pad sentences with <PAD> so that each sentence of a batch has the same length\"\"\"\n",
    "    max_sentence = max([len(sentence) for sentence in sentence_batch])\n",
    "    return [sentence + [pad_int] * (max_sentence - len(sentence)) for sentence in sentence_batch]\n",
    "\n",
    "\n",
    "def get_batches(sources, targets, batch_size, source_pad_int, target_pad_int):\n",
    "    \"\"\"Batch targets, sources, and the lengths of their sentences together\"\"\"\n",
    "    for batch_i in range(0, len(sources)//batch_size):\n",
    "        start_i = batch_i * batch_size\n",
    "\n",
    "        # Slice the right amount for the batch\n",
    "        sources_batch = sources[start_i:start_i + batch_size]\n",
    "        targets_batch = targets[start_i:start_i + batch_size]\n",
    "\n",
    "        # Pad\n",
    "        pad_sources_batch = np.array(pad_sentence_batch(sources_batch, source_pad_int))\n",
    "        pad_targets_batch = np.array(pad_sentence_batch(targets_batch, target_pad_int))\n",
    "\n",
    "        # Need the lengths for the _lengths parameters\n",
    "        pad_targets_lengths = []\n",
    "        for target in pad_targets_batch:\n",
    "            pad_targets_lengths.append(len(target))\n",
    "\n",
    "        pad_source_lengths = []\n",
    "        for source in pad_sources_batch:\n",
    "            pad_source_lengths.append(len(source))\n",
    "\n",
    "        yield pad_sources_batch, pad_targets_batch, pad_source_lengths, pad_targets_lengths\n"
   ]
  },
  {
   "cell_type": "markdown",
   "metadata": {},
   "source": [
    "### Train\n",
    "Train the neural network on the preprocessed data. If you have a hard time getting a good loss, check the forms to see if anyone is having the same problem."
   ]
  },
  {
   "cell_type": "code",
   "execution_count": 41,
   "metadata": {
    "collapsed": false,
    "scrolled": true
   },
   "outputs": [
    {
     "name": "stdout",
     "output_type": "stream",
     "text": [
      "Epoch   0 Batch   10/1077 - Train Accuracy: 0.2862, Validation Accuracy: 0.3736, Loss: 3.4742\n",
      "Epoch   0 Batch   20/1077 - Train Accuracy: 0.3590, Validation Accuracy: 0.4141, Loss: 2.8096\n",
      "Epoch   0 Batch   30/1077 - Train Accuracy: 0.3941, Validation Accuracy: 0.4503, Loss: 2.5327\n",
      "Epoch   0 Batch   40/1077 - Train Accuracy: 0.4266, Validation Accuracy: 0.4737, Loss: 2.3128\n",
      "Epoch   0 Batch   50/1077 - Train Accuracy: 0.4379, Validation Accuracy: 0.5050, Loss: 2.1546\n",
      "Epoch   0 Batch   60/1077 - Train Accuracy: 0.4550, Validation Accuracy: 0.5043, Loss: 1.9034\n",
      "Epoch   0 Batch   70/1077 - Train Accuracy: 0.3832, Validation Accuracy: 0.4535, Loss: 1.7191\n",
      "Epoch   0 Batch   80/1077 - Train Accuracy: 0.4988, Validation Accuracy: 0.5391, Loss: 1.3707\n",
      "Epoch   0 Batch   90/1077 - Train Accuracy: 0.4531, Validation Accuracy: 0.5270, Loss: 1.2586\n",
      "Epoch   0 Batch  100/1077 - Train Accuracy: 0.5168, Validation Accuracy: 0.5412, Loss: 1.0814\n",
      "Epoch   0 Batch  110/1077 - Train Accuracy: 0.5551, Validation Accuracy: 0.5444, Loss: 0.9400\n",
      "Epoch   0 Batch  120/1077 - Train Accuracy: 0.5031, Validation Accuracy: 0.5657, Loss: 0.9285\n",
      "Epoch   0 Batch  130/1077 - Train Accuracy: 0.5480, Validation Accuracy: 0.5568, Loss: 0.8127\n",
      "Epoch   0 Batch  140/1077 - Train Accuracy: 0.5074, Validation Accuracy: 0.5810, Loss: 0.8643\n",
      "Epoch   0 Batch  150/1077 - Train Accuracy: 0.5871, Validation Accuracy: 0.5700, Loss: 0.7594\n",
      "Epoch   0 Batch  160/1077 - Train Accuracy: 0.6020, Validation Accuracy: 0.6023, Loss: 0.7430\n",
      "Epoch   0 Batch  170/1077 - Train Accuracy: 0.5605, Validation Accuracy: 0.6190, Loss: 0.7623\n",
      "Epoch   0 Batch  180/1077 - Train Accuracy: 0.5676, Validation Accuracy: 0.5774, Loss: 0.7108\n",
      "Epoch   0 Batch  190/1077 - Train Accuracy: 0.6270, Validation Accuracy: 0.5952, Loss: 0.6723\n",
      "Epoch   0 Batch  200/1077 - Train Accuracy: 0.5723, Validation Accuracy: 0.6040, Loss: 0.6824\n",
      "Epoch   0 Batch  210/1077 - Train Accuracy: 0.6075, Validation Accuracy: 0.5962, Loss: 0.6529\n",
      "Epoch   0 Batch  220/1077 - Train Accuracy: 0.5938, Validation Accuracy: 0.6204, Loss: 0.6534\n",
      "Epoch   0 Batch  230/1077 - Train Accuracy: 0.6086, Validation Accuracy: 0.6143, Loss: 0.6359\n",
      "Epoch   0 Batch  240/1077 - Train Accuracy: 0.6301, Validation Accuracy: 0.6264, Loss: 0.5872\n",
      "Epoch   0 Batch  250/1077 - Train Accuracy: 0.6040, Validation Accuracy: 0.6385, Loss: 0.5610\n",
      "Epoch   0 Batch  260/1077 - Train Accuracy: 0.6469, Validation Accuracy: 0.6413, Loss: 0.5620\n",
      "Epoch   0 Batch  270/1077 - Train Accuracy: 0.5844, Validation Accuracy: 0.6268, Loss: 0.5990\n",
      "Epoch   0 Batch  280/1077 - Train Accuracy: 0.6465, Validation Accuracy: 0.6381, Loss: 0.5745\n",
      "Epoch   0 Batch  290/1077 - Train Accuracy: 0.6141, Validation Accuracy: 0.6381, Loss: 0.5932\n",
      "Epoch   0 Batch  300/1077 - Train Accuracy: 0.6217, Validation Accuracy: 0.6332, Loss: 0.5538\n",
      "Epoch   0 Batch  310/1077 - Train Accuracy: 0.6227, Validation Accuracy: 0.6460, Loss: 0.5561\n",
      "Epoch   0 Batch  320/1077 - Train Accuracy: 0.6609, Validation Accuracy: 0.6474, Loss: 0.5245\n",
      "Epoch   0 Batch  330/1077 - Train Accuracy: 0.6770, Validation Accuracy: 0.6332, Loss: 0.5215\n",
      "Epoch   0 Batch  340/1077 - Train Accuracy: 0.6287, Validation Accuracy: 0.6296, Loss: 0.5239\n",
      "Epoch   0 Batch  350/1077 - Train Accuracy: 0.6824, Validation Accuracy: 0.6690, Loss: 0.5045\n",
      "Epoch   0 Batch  360/1077 - Train Accuracy: 0.6383, Validation Accuracy: 0.6509, Loss: 0.4915\n",
      "Epoch   0 Batch  370/1077 - Train Accuracy: 0.6689, Validation Accuracy: 0.6491, Loss: 0.4764\n",
      "Epoch   0 Batch  380/1077 - Train Accuracy: 0.6762, Validation Accuracy: 0.6839, Loss: 0.4601\n",
      "Epoch   0 Batch  390/1077 - Train Accuracy: 0.6715, Validation Accuracy: 0.6818, Loss: 0.4862\n",
      "Epoch   0 Batch  400/1077 - Train Accuracy: 0.7047, Validation Accuracy: 0.6765, Loss: 0.4653\n",
      "Epoch   0 Batch  410/1077 - Train Accuracy: 0.6834, Validation Accuracy: 0.6783, Loss: 0.4631\n",
      "Epoch   0 Batch  420/1077 - Train Accuracy: 0.7113, Validation Accuracy: 0.6793, Loss: 0.4060\n",
      "Epoch   0 Batch  430/1077 - Train Accuracy: 0.6691, Validation Accuracy: 0.6644, Loss: 0.4158\n",
      "Epoch   0 Batch  440/1077 - Train Accuracy: 0.6730, Validation Accuracy: 0.6737, Loss: 0.4310\n",
      "Epoch   0 Batch  450/1077 - Train Accuracy: 0.7602, Validation Accuracy: 0.6751, Loss: 0.3661\n",
      "Epoch   0 Batch  460/1077 - Train Accuracy: 0.7215, Validation Accuracy: 0.6974, Loss: 0.3790\n",
      "Epoch   0 Batch  470/1077 - Train Accuracy: 0.7463, Validation Accuracy: 0.6939, Loss: 0.3824\n",
      "Epoch   0 Batch  480/1077 - Train Accuracy: 0.7603, Validation Accuracy: 0.7049, Loss: 0.3357\n",
      "Epoch   0 Batch  490/1077 - Train Accuracy: 0.7184, Validation Accuracy: 0.7013, Loss: 0.3373\n",
      "Epoch   0 Batch  500/1077 - Train Accuracy: 0.7727, Validation Accuracy: 0.7152, Loss: 0.2987\n",
      "Epoch   0 Batch  510/1077 - Train Accuracy: 0.7570, Validation Accuracy: 0.7106, Loss: 0.2997\n",
      "Epoch   0 Batch  520/1077 - Train Accuracy: 0.7902, Validation Accuracy: 0.7450, Loss: 0.2638\n",
      "Epoch   0 Batch  530/1077 - Train Accuracy: 0.7617, Validation Accuracy: 0.7536, Loss: 0.2911\n",
      "Epoch   0 Batch  540/1077 - Train Accuracy: 0.7891, Validation Accuracy: 0.7500, Loss: 0.2438\n",
      "Epoch   0 Batch  550/1077 - Train Accuracy: 0.7676, Validation Accuracy: 0.7915, Loss: 0.2625\n",
      "Epoch   0 Batch  560/1077 - Train Accuracy: 0.8063, Validation Accuracy: 0.8015, Loss: 0.2435\n",
      "Epoch   0 Batch  570/1077 - Train Accuracy: 0.8129, Validation Accuracy: 0.7844, Loss: 0.2593\n",
      "Epoch   0 Batch  580/1077 - Train Accuracy: 0.8501, Validation Accuracy: 0.8363, Loss: 0.1961\n",
      "Epoch   0 Batch  590/1077 - Train Accuracy: 0.7792, Validation Accuracy: 0.7951, Loss: 0.2442\n",
      "Epoch   0 Batch  600/1077 - Train Accuracy: 0.8449, Validation Accuracy: 0.8043, Loss: 0.1988\n",
      "Epoch   0 Batch  610/1077 - Train Accuracy: 0.8475, Validation Accuracy: 0.8263, Loss: 0.2114\n",
      "Epoch   0 Batch  620/1077 - Train Accuracy: 0.8352, Validation Accuracy: 0.8157, Loss: 0.1834\n",
      "Epoch   0 Batch  630/1077 - Train Accuracy: 0.8555, Validation Accuracy: 0.8310, Loss: 0.1844\n",
      "Epoch   0 Batch  640/1077 - Train Accuracy: 0.8635, Validation Accuracy: 0.8441, Loss: 0.1703\n",
      "Epoch   0 Batch  650/1077 - Train Accuracy: 0.8902, Validation Accuracy: 0.8739, Loss: 0.1858\n",
      "Epoch   0 Batch  660/1077 - Train Accuracy: 0.8641, Validation Accuracy: 0.8466, Loss: 0.1731\n",
      "Epoch   0 Batch  670/1077 - Train Accuracy: 0.8654, Validation Accuracy: 0.8509, Loss: 0.1675\n",
      "Epoch   0 Batch  680/1077 - Train Accuracy: 0.8683, Validation Accuracy: 0.8672, Loss: 0.1543\n",
      "Epoch   0 Batch  690/1077 - Train Accuracy: 0.9074, Validation Accuracy: 0.8597, Loss: 0.1386\n",
      "Epoch   0 Batch  700/1077 - Train Accuracy: 0.8664, Validation Accuracy: 0.8438, Loss: 0.1414\n",
      "Epoch   0 Batch  710/1077 - Train Accuracy: 0.8801, Validation Accuracy: 0.8683, Loss: 0.1396\n",
      "Epoch   0 Batch  720/1077 - Train Accuracy: 0.8816, Validation Accuracy: 0.8782, Loss: 0.1453\n",
      "Epoch   0 Batch  730/1077 - Train Accuracy: 0.8969, Validation Accuracy: 0.8686, Loss: 0.1396\n",
      "Epoch   0 Batch  740/1077 - Train Accuracy: 0.9082, Validation Accuracy: 0.8668, Loss: 0.1085\n",
      "Epoch   0 Batch  750/1077 - Train Accuracy: 0.9246, Validation Accuracy: 0.8743, Loss: 0.1061\n",
      "Epoch   0 Batch  760/1077 - Train Accuracy: 0.8957, Validation Accuracy: 0.8658, Loss: 0.1237\n",
      "Epoch   0 Batch  770/1077 - Train Accuracy: 0.8969, Validation Accuracy: 0.8835, Loss: 0.1124\n",
      "Epoch   0 Batch  780/1077 - Train Accuracy: 0.8793, Validation Accuracy: 0.9009, Loss: 0.1328\n",
      "Epoch   0 Batch  790/1077 - Train Accuracy: 0.8543, Validation Accuracy: 0.9251, Loss: 0.1123\n",
      "Epoch   0 Batch  800/1077 - Train Accuracy: 0.8934, Validation Accuracy: 0.8991, Loss: 0.1063\n",
      "Epoch   0 Batch  810/1077 - Train Accuracy: 0.9022, Validation Accuracy: 0.9137, Loss: 0.0841\n",
      "Epoch   0 Batch  820/1077 - Train Accuracy: 0.8957, Validation Accuracy: 0.8892, Loss: 0.0919\n",
      "Epoch   0 Batch  830/1077 - Train Accuracy: 0.8590, Validation Accuracy: 0.8697, Loss: 0.0968\n",
      "Epoch   0 Batch  840/1077 - Train Accuracy: 0.9266, Validation Accuracy: 0.8974, Loss: 0.0799\n",
      "Epoch   0 Batch  850/1077 - Train Accuracy: 0.8728, Validation Accuracy: 0.9237, Loss: 0.1123\n",
      "Epoch   0 Batch  860/1077 - Train Accuracy: 0.9118, Validation Accuracy: 0.8974, Loss: 0.0961\n",
      "Epoch   0 Batch  870/1077 - Train Accuracy: 0.9075, Validation Accuracy: 0.8754, Loss: 0.0806\n",
      "Epoch   0 Batch  880/1077 - Train Accuracy: 0.9309, Validation Accuracy: 0.8945, Loss: 0.0905\n",
      "Epoch   0 Batch  890/1077 - Train Accuracy: 0.9245, Validation Accuracy: 0.8945, Loss: 0.0784\n",
      "Epoch   0 Batch  900/1077 - Train Accuracy: 0.9281, Validation Accuracy: 0.8952, Loss: 0.0911\n",
      "Epoch   0 Batch  910/1077 - Train Accuracy: 0.9074, Validation Accuracy: 0.9158, Loss: 0.0777\n",
      "Epoch   0 Batch  920/1077 - Train Accuracy: 0.9238, Validation Accuracy: 0.8896, Loss: 0.0707\n",
      "Epoch   0 Batch  930/1077 - Train Accuracy: 0.9129, Validation Accuracy: 0.8878, Loss: 0.0632\n",
      "Epoch   0 Batch  940/1077 - Train Accuracy: 0.9434, Validation Accuracy: 0.8977, Loss: 0.0616\n",
      "Epoch   0 Batch  950/1077 - Train Accuracy: 0.9397, Validation Accuracy: 0.9247, Loss: 0.0598\n",
      "Epoch   0 Batch  960/1077 - Train Accuracy: 0.9327, Validation Accuracy: 0.9212, Loss: 0.0680\n",
      "Epoch   0 Batch  970/1077 - Train Accuracy: 0.9477, Validation Accuracy: 0.9034, Loss: 0.0816\n",
      "Epoch   0 Batch  980/1077 - Train Accuracy: 0.8957, Validation Accuracy: 0.9052, Loss: 0.0783\n",
      "Epoch   0 Batch  990/1077 - Train Accuracy: 0.9223, Validation Accuracy: 0.9091, Loss: 0.0756\n",
      "Epoch   0 Batch 1000/1077 - Train Accuracy: 0.9390, Validation Accuracy: 0.9279, Loss: 0.0638\n",
      "Epoch   0 Batch 1010/1077 - Train Accuracy: 0.9457, Validation Accuracy: 0.9158, Loss: 0.0556\n",
      "Epoch   0 Batch 1020/1077 - Train Accuracy: 0.9242, Validation Accuracy: 0.9077, Loss: 0.0564\n",
      "Epoch   0 Batch 1030/1077 - Train Accuracy: 0.9281, Validation Accuracy: 0.9144, Loss: 0.0631\n",
      "Epoch   0 Batch 1040/1077 - Train Accuracy: 0.9280, Validation Accuracy: 0.9205, Loss: 0.0721\n",
      "Epoch   0 Batch 1050/1077 - Train Accuracy: 0.9410, Validation Accuracy: 0.9016, Loss: 0.0536\n",
      "Epoch   0 Batch 1060/1077 - Train Accuracy: 0.9469, Validation Accuracy: 0.9158, Loss: 0.0522\n",
      "Epoch   0 Batch 1070/1077 - Train Accuracy: 0.9262, Validation Accuracy: 0.9222, Loss: 0.0590\n",
      "Epoch   1 Batch   10/1077 - Train Accuracy: 0.9428, Validation Accuracy: 0.9240, Loss: 0.0652\n",
      "Epoch   1 Batch   20/1077 - Train Accuracy: 0.9328, Validation Accuracy: 0.9265, Loss: 0.0551\n",
      "Epoch   1 Batch   30/1077 - Train Accuracy: 0.9379, Validation Accuracy: 0.9304, Loss: 0.0501\n",
      "Epoch   1 Batch   40/1077 - Train Accuracy: 0.9457, Validation Accuracy: 0.9187, Loss: 0.0474\n",
      "Epoch   1 Batch   50/1077 - Train Accuracy: 0.9508, Validation Accuracy: 0.9325, Loss: 0.0581\n",
      "Epoch   1 Batch   60/1077 - Train Accuracy: 0.9457, Validation Accuracy: 0.9187, Loss: 0.0413\n",
      "Epoch   1 Batch   70/1077 - Train Accuracy: 0.9079, Validation Accuracy: 0.9322, Loss: 0.0555\n",
      "Epoch   1 Batch   80/1077 - Train Accuracy: 0.9461, Validation Accuracy: 0.9258, Loss: 0.0465\n",
      "Epoch   1 Batch   90/1077 - Train Accuracy: 0.9473, Validation Accuracy: 0.9165, Loss: 0.0551\n",
      "Epoch   1 Batch  100/1077 - Train Accuracy: 0.9445, Validation Accuracy: 0.9300, Loss: 0.0529\n",
      "Epoch   1 Batch  110/1077 - Train Accuracy: 0.9602, Validation Accuracy: 0.9240, Loss: 0.0418\n",
      "Epoch   1 Batch  120/1077 - Train Accuracy: 0.9332, Validation Accuracy: 0.9414, Loss: 0.0602\n",
      "Epoch   1 Batch  130/1077 - Train Accuracy: 0.9513, Validation Accuracy: 0.9226, Loss: 0.0456\n",
      "Epoch   1 Batch  140/1077 - Train Accuracy: 0.9396, Validation Accuracy: 0.9251, Loss: 0.0456\n",
      "Epoch   1 Batch  150/1077 - Train Accuracy: 0.9323, Validation Accuracy: 0.9286, Loss: 0.0543\n",
      "Epoch   1 Batch  160/1077 - Train Accuracy: 0.9484, Validation Accuracy: 0.9276, Loss: 0.0345\n",
      "Epoch   1 Batch  170/1077 - Train Accuracy: 0.9383, Validation Accuracy: 0.9268, Loss: 0.0591\n",
      "Epoch   1 Batch  180/1077 - Train Accuracy: 0.9469, Validation Accuracy: 0.9222, Loss: 0.0408\n",
      "Epoch   1 Batch  190/1077 - Train Accuracy: 0.9652, Validation Accuracy: 0.9229, Loss: 0.0397\n",
      "Epoch   1 Batch  200/1077 - Train Accuracy: 0.9391, Validation Accuracy: 0.9428, Loss: 0.0519\n",
      "Epoch   1 Batch  210/1077 - Train Accuracy: 0.9211, Validation Accuracy: 0.9070, Loss: 0.0601\n",
      "Epoch   1 Batch  220/1077 - Train Accuracy: 0.9650, Validation Accuracy: 0.9265, Loss: 0.0423\n",
      "Epoch   1 Batch  230/1077 - Train Accuracy: 0.9360, Validation Accuracy: 0.9077, Loss: 0.0421\n",
      "Epoch   1 Batch  240/1077 - Train Accuracy: 0.9539, Validation Accuracy: 0.9393, Loss: 0.0438\n",
      "Epoch   1 Batch  250/1077 - Train Accuracy: 0.9517, Validation Accuracy: 0.9446, Loss: 0.0403\n",
      "Epoch   1 Batch  260/1077 - Train Accuracy: 0.9408, Validation Accuracy: 0.9205, Loss: 0.0355\n",
      "Epoch   1 Batch  270/1077 - Train Accuracy: 0.9465, Validation Accuracy: 0.9254, Loss: 0.0441\n",
      "Epoch   1 Batch  280/1077 - Train Accuracy: 0.9418, Validation Accuracy: 0.9322, Loss: 0.0551\n",
      "Epoch   1 Batch  290/1077 - Train Accuracy: 0.9371, Validation Accuracy: 0.9325, Loss: 0.0641\n",
      "Epoch   1 Batch  300/1077 - Train Accuracy: 0.9552, Validation Accuracy: 0.9371, Loss: 0.0335\n",
      "Epoch   1 Batch  310/1077 - Train Accuracy: 0.9660, Validation Accuracy: 0.9329, Loss: 0.0385\n",
      "Epoch   1 Batch  320/1077 - Train Accuracy: 0.9414, Validation Accuracy: 0.9528, Loss: 0.0513\n",
      "Epoch   1 Batch  330/1077 - Train Accuracy: 0.9437, Validation Accuracy: 0.9158, Loss: 0.0491\n",
      "Epoch   1 Batch  340/1077 - Train Accuracy: 0.9790, Validation Accuracy: 0.9322, Loss: 0.0377\n",
      "Epoch   1 Batch  350/1077 - Train Accuracy: 0.9590, Validation Accuracy: 0.9375, Loss: 0.0486\n",
      "Epoch   1 Batch  360/1077 - Train Accuracy: 0.9730, Validation Accuracy: 0.9268, Loss: 0.0311\n",
      "Epoch   1 Batch  370/1077 - Train Accuracy: 0.9621, Validation Accuracy: 0.9517, Loss: 0.0336\n",
      "Epoch   1 Batch  380/1077 - Train Accuracy: 0.9676, Validation Accuracy: 0.9474, Loss: 0.0356\n",
      "Epoch   1 Batch  390/1077 - Train Accuracy: 0.9219, Validation Accuracy: 0.9339, Loss: 0.0482\n",
      "Epoch   1 Batch  400/1077 - Train Accuracy: 0.9211, Validation Accuracy: 0.9592, Loss: 0.0474\n",
      "Epoch   1 Batch  410/1077 - Train Accuracy: 0.9346, Validation Accuracy: 0.9347, Loss: 0.0605\n",
      "Epoch   1 Batch  420/1077 - Train Accuracy: 0.9660, Validation Accuracy: 0.9293, Loss: 0.0273\n",
      "Epoch   1 Batch  430/1077 - Train Accuracy: 0.9531, Validation Accuracy: 0.9446, Loss: 0.0405\n",
      "Epoch   1 Batch  440/1077 - Train Accuracy: 0.9293, Validation Accuracy: 0.9261, Loss: 0.0510\n",
      "Epoch   1 Batch  450/1077 - Train Accuracy: 0.9520, Validation Accuracy: 0.9389, Loss: 0.0469\n",
      "Epoch   1 Batch  460/1077 - Train Accuracy: 0.9223, Validation Accuracy: 0.9442, Loss: 0.0471\n",
      "Epoch   1 Batch  470/1077 - Train Accuracy: 0.9605, Validation Accuracy: 0.9396, Loss: 0.0432\n",
      "Epoch   1 Batch  480/1077 - Train Accuracy: 0.9400, Validation Accuracy: 0.9453, Loss: 0.0434\n",
      "Epoch   1 Batch  490/1077 - Train Accuracy: 0.9547, Validation Accuracy: 0.9542, Loss: 0.0443\n",
      "Epoch   1 Batch  500/1077 - Train Accuracy: 0.9570, Validation Accuracy: 0.9393, Loss: 0.0315\n",
      "Epoch   1 Batch  510/1077 - Train Accuracy: 0.9434, Validation Accuracy: 0.9460, Loss: 0.0379\n",
      "Epoch   1 Batch  520/1077 - Train Accuracy: 0.9699, Validation Accuracy: 0.9517, Loss: 0.0356\n",
      "Epoch   1 Batch  530/1077 - Train Accuracy: 0.9523, Validation Accuracy: 0.9474, Loss: 0.0409\n",
      "Epoch   1 Batch  540/1077 - Train Accuracy: 0.9621, Validation Accuracy: 0.9435, Loss: 0.0321\n",
      "Epoch   1 Batch  550/1077 - Train Accuracy: 0.9520, Validation Accuracy: 0.9414, Loss: 0.0397\n",
      "Epoch   1 Batch  560/1077 - Train Accuracy: 0.9496, Validation Accuracy: 0.9450, Loss: 0.0336\n",
      "Epoch   1 Batch  570/1077 - Train Accuracy: 0.9531, Validation Accuracy: 0.9521, Loss: 0.0400\n",
      "Epoch   1 Batch  580/1077 - Train Accuracy: 0.9546, Validation Accuracy: 0.9432, Loss: 0.0310\n",
      "Epoch   1 Batch  590/1077 - Train Accuracy: 0.9350, Validation Accuracy: 0.9432, Loss: 0.0510\n",
      "Epoch   1 Batch  600/1077 - Train Accuracy: 0.9386, Validation Accuracy: 0.9585, Loss: 0.0447\n",
      "Epoch   1 Batch  610/1077 - Train Accuracy: 0.9539, Validation Accuracy: 0.9407, Loss: 0.0370\n",
      "Epoch   1 Batch  620/1077 - Train Accuracy: 0.9586, Validation Accuracy: 0.9446, Loss: 0.0360\n",
      "Epoch   1 Batch  630/1077 - Train Accuracy: 0.9645, Validation Accuracy: 0.9648, Loss: 0.0333\n",
      "Epoch   1 Batch  640/1077 - Train Accuracy: 0.9743, Validation Accuracy: 0.9563, Loss: 0.0400\n",
      "Epoch   1 Batch  650/1077 - Train Accuracy: 0.9641, Validation Accuracy: 0.9599, Loss: 0.0357\n",
      "Epoch   1 Batch  660/1077 - Train Accuracy: 0.9664, Validation Accuracy: 0.9464, Loss: 0.0339\n",
      "Epoch   1 Batch  670/1077 - Train Accuracy: 0.9613, Validation Accuracy: 0.9549, Loss: 0.0343\n",
      "Epoch   1 Batch  680/1077 - Train Accuracy: 0.9539, Validation Accuracy: 0.9350, Loss: 0.0302\n",
      "Epoch   1 Batch  690/1077 - Train Accuracy: 0.9551, Validation Accuracy: 0.9616, Loss: 0.0355\n",
      "Epoch   1 Batch  700/1077 - Train Accuracy: 0.9621, Validation Accuracy: 0.9648, Loss: 0.0294\n",
      "Epoch   1 Batch  710/1077 - Train Accuracy: 0.9547, Validation Accuracy: 0.9588, Loss: 0.0259\n",
      "Epoch   1 Batch  720/1077 - Train Accuracy: 0.9511, Validation Accuracy: 0.9638, Loss: 0.0387\n",
      "Epoch   1 Batch  730/1077 - Train Accuracy: 0.9586, Validation Accuracy: 0.9563, Loss: 0.0456\n",
      "Epoch   1 Batch  740/1077 - Train Accuracy: 0.9668, Validation Accuracy: 0.9659, Loss: 0.0306\n",
      "Epoch   1 Batch  750/1077 - Train Accuracy: 0.9559, Validation Accuracy: 0.9535, Loss: 0.0267\n",
      "Epoch   1 Batch  760/1077 - Train Accuracy: 0.9473, Validation Accuracy: 0.9467, Loss: 0.0436\n",
      "Epoch   1 Batch  770/1077 - Train Accuracy: 0.9483, Validation Accuracy: 0.9528, Loss: 0.0359\n",
      "Epoch   1 Batch  780/1077 - Train Accuracy: 0.9359, Validation Accuracy: 0.9656, Loss: 0.0431\n",
      "Epoch   1 Batch  790/1077 - Train Accuracy: 0.9359, Validation Accuracy: 0.9609, Loss: 0.0355\n",
      "Epoch   1 Batch  800/1077 - Train Accuracy: 0.9660, Validation Accuracy: 0.9574, Loss: 0.0307\n",
      "Epoch   1 Batch  810/1077 - Train Accuracy: 0.9825, Validation Accuracy: 0.9457, Loss: 0.0237\n",
      "Epoch   1 Batch  820/1077 - Train Accuracy: 0.9652, Validation Accuracy: 0.9499, Loss: 0.0289\n",
      "Epoch   1 Batch  830/1077 - Train Accuracy: 0.9172, Validation Accuracy: 0.9567, Loss: 0.0378\n",
      "Epoch   1 Batch  840/1077 - Train Accuracy: 0.9566, Validation Accuracy: 0.9602, Loss: 0.0296\n",
      "Epoch   1 Batch  850/1077 - Train Accuracy: 0.9338, Validation Accuracy: 0.9616, Loss: 0.0504\n",
      "Epoch   1 Batch  860/1077 - Train Accuracy: 0.9475, Validation Accuracy: 0.9709, Loss: 0.0395\n",
      "Epoch   1 Batch  870/1077 - Train Accuracy: 0.9445, Validation Accuracy: 0.9339, Loss: 0.0341\n",
      "Epoch   1 Batch  880/1077 - Train Accuracy: 0.9672, Validation Accuracy: 0.9521, Loss: 0.0409\n",
      "Epoch   1 Batch  890/1077 - Train Accuracy: 0.9792, Validation Accuracy: 0.9553, Loss: 0.0333\n",
      "Epoch   1 Batch  900/1077 - Train Accuracy: 0.9750, Validation Accuracy: 0.9450, Loss: 0.0342\n",
      "Epoch   1 Batch  910/1077 - Train Accuracy: 0.9583, Validation Accuracy: 0.9638, Loss: 0.0345\n",
      "Epoch   1 Batch  920/1077 - Train Accuracy: 0.9801, Validation Accuracy: 0.9609, Loss: 0.0275\n",
      "Epoch   1 Batch  930/1077 - Train Accuracy: 0.9453, Validation Accuracy: 0.9645, Loss: 0.0267\n",
      "Epoch   1 Batch  940/1077 - Train Accuracy: 0.9750, Validation Accuracy: 0.9517, Loss: 0.0281\n",
      "Epoch   1 Batch  950/1077 - Train Accuracy: 0.9583, Validation Accuracy: 0.9545, Loss: 0.0280\n",
      "Epoch   1 Batch  960/1077 - Train Accuracy: 0.9635, Validation Accuracy: 0.9545, Loss: 0.0299\n",
      "Epoch   1 Batch  970/1077 - Train Accuracy: 0.9648, Validation Accuracy: 0.9592, Loss: 0.0355\n",
      "Epoch   1 Batch  980/1077 - Train Accuracy: 0.9582, Validation Accuracy: 0.9599, Loss: 0.0317\n",
      "Epoch   1 Batch  990/1077 - Train Accuracy: 0.9749, Validation Accuracy: 0.9716, Loss: 0.0334\n",
      "Epoch   1 Batch 1000/1077 - Train Accuracy: 0.9565, Validation Accuracy: 0.9638, Loss: 0.0282\n",
      "Epoch   1 Batch 1010/1077 - Train Accuracy: 0.9750, Validation Accuracy: 0.9634, Loss: 0.0232\n",
      "Epoch   1 Batch 1020/1077 - Train Accuracy: 0.9758, Validation Accuracy: 0.9631, Loss: 0.0223\n",
      "Epoch   1 Batch 1030/1077 - Train Accuracy: 0.9762, Validation Accuracy: 0.9663, Loss: 0.0285\n",
      "Epoch   1 Batch 1040/1077 - Train Accuracy: 0.9609, Validation Accuracy: 0.9624, Loss: 0.0342\n",
      "Epoch   1 Batch 1050/1077 - Train Accuracy: 0.9668, Validation Accuracy: 0.9627, Loss: 0.0251\n",
      "Epoch   1 Batch 1060/1077 - Train Accuracy: 0.9715, Validation Accuracy: 0.9599, Loss: 0.0301\n",
      "Epoch   1 Batch 1070/1077 - Train Accuracy: 0.9516, Validation Accuracy: 0.9822, Loss: 0.0314\n",
      "Epoch   2 Batch   10/1077 - Train Accuracy: 0.9535, Validation Accuracy: 0.9702, Loss: 0.0294\n",
      "Epoch   2 Batch   20/1077 - Train Accuracy: 0.9602, Validation Accuracy: 0.9723, Loss: 0.0237\n",
      "Epoch   2 Batch   30/1077 - Train Accuracy: 0.9637, Validation Accuracy: 0.9599, Loss: 0.0290\n",
      "Epoch   2 Batch   40/1077 - Train Accuracy: 0.9738, Validation Accuracy: 0.9457, Loss: 0.0208\n",
      "Epoch   2 Batch   50/1077 - Train Accuracy: 0.9816, Validation Accuracy: 0.9716, Loss: 0.0292\n",
      "Epoch   2 Batch   60/1077 - Train Accuracy: 0.9795, Validation Accuracy: 0.9620, Loss: 0.0210\n",
      "Epoch   2 Batch   70/1077 - Train Accuracy: 0.9535, Validation Accuracy: 0.9751, Loss: 0.0334\n",
      "Epoch   2 Batch   80/1077 - Train Accuracy: 0.9633, Validation Accuracy: 0.9638, Loss: 0.0263\n",
      "Epoch   2 Batch   90/1077 - Train Accuracy: 0.9570, Validation Accuracy: 0.9616, Loss: 0.0256\n",
      "Epoch   2 Batch  100/1077 - Train Accuracy: 0.9652, Validation Accuracy: 0.9485, Loss: 0.0299\n",
      "Epoch   2 Batch  110/1077 - Train Accuracy: 0.9809, Validation Accuracy: 0.9538, Loss: 0.0177\n",
      "Epoch   2 Batch  120/1077 - Train Accuracy: 0.9598, Validation Accuracy: 0.9577, Loss: 0.0250\n",
      "Epoch   2 Batch  130/1077 - Train Accuracy: 0.9643, Validation Accuracy: 0.9673, Loss: 0.0241\n",
      "Epoch   2 Batch  140/1077 - Train Accuracy: 0.9799, Validation Accuracy: 0.9666, Loss: 0.0258\n",
      "Epoch   2 Batch  150/1077 - Train Accuracy: 0.9647, Validation Accuracy: 0.9549, Loss: 0.0298\n",
      "Epoch   2 Batch  160/1077 - Train Accuracy: 0.9801, Validation Accuracy: 0.9602, Loss: 0.0265\n",
      "Epoch   2 Batch  170/1077 - Train Accuracy: 0.9563, Validation Accuracy: 0.9553, Loss: 0.0297\n",
      "Epoch   2 Batch  180/1077 - Train Accuracy: 0.9840, Validation Accuracy: 0.9634, Loss: 0.0211\n",
      "Epoch   2 Batch  190/1077 - Train Accuracy: 0.9863, Validation Accuracy: 0.9524, Loss: 0.0264\n",
      "Epoch   2 Batch  200/1077 - Train Accuracy: 0.9734, Validation Accuracy: 0.9563, Loss: 0.0245\n",
      "Epoch   2 Batch  210/1077 - Train Accuracy: 0.9594, Validation Accuracy: 0.9535, Loss: 0.0323\n",
      "Epoch   2 Batch  220/1077 - Train Accuracy: 0.9737, Validation Accuracy: 0.9691, Loss: 0.0221\n",
      "Epoch   2 Batch  230/1077 - Train Accuracy: 0.9531, Validation Accuracy: 0.9563, Loss: 0.0269\n",
      "Epoch   2 Batch  240/1077 - Train Accuracy: 0.9824, Validation Accuracy: 0.9677, Loss: 0.0217\n",
      "Epoch   2 Batch  250/1077 - Train Accuracy: 0.9556, Validation Accuracy: 0.9734, Loss: 0.0296\n",
      "Epoch   2 Batch  260/1077 - Train Accuracy: 0.9602, Validation Accuracy: 0.9673, Loss: 0.0201\n",
      "Epoch   2 Batch  270/1077 - Train Accuracy: 0.9703, Validation Accuracy: 0.9538, Loss: 0.0323\n",
      "Epoch   2 Batch  280/1077 - Train Accuracy: 0.9578, Validation Accuracy: 0.9595, Loss: 0.0367\n",
      "Epoch   2 Batch  290/1077 - Train Accuracy: 0.9719, Validation Accuracy: 0.9719, Loss: 0.0404\n",
      "Epoch   2 Batch  300/1077 - Train Accuracy: 0.9688, Validation Accuracy: 0.9585, Loss: 0.0207\n",
      "Epoch   2 Batch  310/1077 - Train Accuracy: 0.9824, Validation Accuracy: 0.9560, Loss: 0.0264\n",
      "Epoch   2 Batch  320/1077 - Train Accuracy: 0.9711, Validation Accuracy: 0.9677, Loss: 0.0306\n",
      "Epoch   2 Batch  330/1077 - Train Accuracy: 0.9625, Validation Accuracy: 0.9613, Loss: 0.0284\n",
      "Epoch   2 Batch  340/1077 - Train Accuracy: 0.9807, Validation Accuracy: 0.9712, Loss: 0.0237\n",
      "Epoch   2 Batch  350/1077 - Train Accuracy: 0.9688, Validation Accuracy: 0.9545, Loss: 0.0281\n",
      "Epoch   2 Batch  360/1077 - Train Accuracy: 0.9570, Validation Accuracy: 0.9631, Loss: 0.0203\n",
      "Epoch   2 Batch  370/1077 - Train Accuracy: 0.9740, Validation Accuracy: 0.9645, Loss: 0.0237\n",
      "Epoch   2 Batch  380/1077 - Train Accuracy: 0.9727, Validation Accuracy: 0.9606, Loss: 0.0286\n",
      "Epoch   2 Batch  390/1077 - Train Accuracy: 0.9379, Validation Accuracy: 0.9638, Loss: 0.0355\n",
      "Epoch   2 Batch  400/1077 - Train Accuracy: 0.9723, Validation Accuracy: 0.9670, Loss: 0.0341\n",
      "Epoch   2 Batch  410/1077 - Train Accuracy: 0.9498, Validation Accuracy: 0.9648, Loss: 0.0390\n",
      "Epoch   2 Batch  420/1077 - Train Accuracy: 0.9766, Validation Accuracy: 0.9517, Loss: 0.0209\n",
      "Epoch   2 Batch  430/1077 - Train Accuracy: 0.9695, Validation Accuracy: 0.9652, Loss: 0.0198\n",
      "Epoch   2 Batch  440/1077 - Train Accuracy: 0.9563, Validation Accuracy: 0.9553, Loss: 0.0299\n",
      "Epoch   2 Batch  450/1077 - Train Accuracy: 0.9746, Validation Accuracy: 0.9616, Loss: 0.0307\n",
      "Epoch   2 Batch  460/1077 - Train Accuracy: 0.9645, Validation Accuracy: 0.9741, Loss: 0.0318\n",
      "Epoch   2 Batch  470/1077 - Train Accuracy: 0.9827, Validation Accuracy: 0.9766, Loss: 0.0199\n",
      "Epoch   2 Batch  480/1077 - Train Accuracy: 0.9671, Validation Accuracy: 0.9620, Loss: 0.0277\n",
      "Epoch   2 Batch  490/1077 - Train Accuracy: 0.9500, Validation Accuracy: 0.9588, Loss: 0.0244\n",
      "Epoch   2 Batch  500/1077 - Train Accuracy: 0.9699, Validation Accuracy: 0.9684, Loss: 0.0195\n",
      "Epoch   2 Batch  510/1077 - Train Accuracy: 0.9441, Validation Accuracy: 0.9751, Loss: 0.0269\n",
      "Epoch   2 Batch  520/1077 - Train Accuracy: 0.9706, Validation Accuracy: 0.9631, Loss: 0.0190\n",
      "Epoch   2 Batch  530/1077 - Train Accuracy: 0.9531, Validation Accuracy: 0.9688, Loss: 0.0348\n",
      "Epoch   2 Batch  540/1077 - Train Accuracy: 0.9777, Validation Accuracy: 0.9751, Loss: 0.0198\n",
      "Epoch   2 Batch  550/1077 - Train Accuracy: 0.9555, Validation Accuracy: 0.9442, Loss: 0.0218\n",
      "Epoch   2 Batch  560/1077 - Train Accuracy: 0.9586, Validation Accuracy: 0.9595, Loss: 0.0216\n",
      "Epoch   2 Batch  570/1077 - Train Accuracy: 0.9474, Validation Accuracy: 0.9663, Loss: 0.0323\n",
      "Epoch   2 Batch  580/1077 - Train Accuracy: 0.9762, Validation Accuracy: 0.9719, Loss: 0.0173\n",
      "Epoch   2 Batch  590/1077 - Train Accuracy: 0.9354, Validation Accuracy: 0.9734, Loss: 0.0334\n",
      "Epoch   2 Batch  600/1077 - Train Accuracy: 0.9557, Validation Accuracy: 0.9567, Loss: 0.0369\n",
      "Epoch   2 Batch  610/1077 - Train Accuracy: 0.9572, Validation Accuracy: 0.9723, Loss: 0.0267\n",
      "Epoch   2 Batch  620/1077 - Train Accuracy: 0.9789, Validation Accuracy: 0.9744, Loss: 0.0204\n",
      "Epoch   2 Batch  630/1077 - Train Accuracy: 0.9707, Validation Accuracy: 0.9648, Loss: 0.0256\n",
      "Epoch   2 Batch  640/1077 - Train Accuracy: 0.9788, Validation Accuracy: 0.9734, Loss: 0.0285\n",
      "Epoch   2 Batch  650/1077 - Train Accuracy: 0.9832, Validation Accuracy: 0.9719, Loss: 0.0211\n",
      "Epoch   2 Batch  660/1077 - Train Accuracy: 0.9949, Validation Accuracy: 0.9751, Loss: 0.0147\n",
      "Epoch   2 Batch  670/1077 - Train Accuracy: 0.9652, Validation Accuracy: 0.9613, Loss: 0.0261\n",
      "Epoch   2 Batch  680/1077 - Train Accuracy: 0.9736, Validation Accuracy: 0.9741, Loss: 0.0251\n",
      "Epoch   2 Batch  690/1077 - Train Accuracy: 0.9574, Validation Accuracy: 0.9624, Loss: 0.0268\n",
      "Epoch   2 Batch  700/1077 - Train Accuracy: 0.9734, Validation Accuracy: 0.9727, Loss: 0.0190\n",
      "Epoch   2 Batch  710/1077 - Train Accuracy: 0.9801, Validation Accuracy: 0.9542, Loss: 0.0218\n",
      "Epoch   2 Batch  720/1077 - Train Accuracy: 0.9790, Validation Accuracy: 0.9659, Loss: 0.0222\n",
      "Epoch   2 Batch  730/1077 - Train Accuracy: 0.9613, Validation Accuracy: 0.9666, Loss: 0.0318\n",
      "Epoch   2 Batch  740/1077 - Train Accuracy: 0.9711, Validation Accuracy: 0.9606, Loss: 0.0232\n",
      "Epoch   2 Batch  750/1077 - Train Accuracy: 0.9617, Validation Accuracy: 0.9727, Loss: 0.0216\n",
      "Epoch   2 Batch  760/1077 - Train Accuracy: 0.9453, Validation Accuracy: 0.9648, Loss: 0.0246\n",
      "Epoch   2 Batch  770/1077 - Train Accuracy: 0.9691, Validation Accuracy: 0.9702, Loss: 0.0238\n",
      "Epoch   2 Batch  780/1077 - Train Accuracy: 0.9633, Validation Accuracy: 0.9631, Loss: 0.0361\n",
      "Epoch   2 Batch  790/1077 - Train Accuracy: 0.9559, Validation Accuracy: 0.9734, Loss: 0.0276\n",
      "Epoch   2 Batch  800/1077 - Train Accuracy: 0.9805, Validation Accuracy: 0.9680, Loss: 0.0198\n",
      "Epoch   2 Batch  810/1077 - Train Accuracy: 0.9807, Validation Accuracy: 0.9663, Loss: 0.0143\n",
      "Epoch   2 Batch  820/1077 - Train Accuracy: 0.9887, Validation Accuracy: 0.9606, Loss: 0.0173\n",
      "Epoch   2 Batch  830/1077 - Train Accuracy: 0.9391, Validation Accuracy: 0.9666, Loss: 0.0358\n",
      "Epoch   2 Batch  840/1077 - Train Accuracy: 0.9859, Validation Accuracy: 0.9602, Loss: 0.0227\n",
      "Epoch   2 Batch  850/1077 - Train Accuracy: 0.9714, Validation Accuracy: 0.9613, Loss: 0.0385\n",
      "Epoch   2 Batch  860/1077 - Train Accuracy: 0.9747, Validation Accuracy: 0.9698, Loss: 0.0246\n",
      "Epoch   2 Batch  870/1077 - Train Accuracy: 0.9626, Validation Accuracy: 0.9776, Loss: 0.0193\n",
      "Epoch   2 Batch  880/1077 - Train Accuracy: 0.9797, Validation Accuracy: 0.9471, Loss: 0.0317\n",
      "Epoch   2 Batch  890/1077 - Train Accuracy: 0.9766, Validation Accuracy: 0.9666, Loss: 0.0227\n",
      "Epoch   2 Batch  900/1077 - Train Accuracy: 0.9773, Validation Accuracy: 0.9801, Loss: 0.0267\n",
      "Epoch   2 Batch  910/1077 - Train Accuracy: 0.9632, Validation Accuracy: 0.9798, Loss: 0.0274\n",
      "Epoch   2 Batch  920/1077 - Train Accuracy: 0.9832, Validation Accuracy: 0.9627, Loss: 0.0171\n",
      "Epoch   2 Batch  930/1077 - Train Accuracy: 0.9695, Validation Accuracy: 0.9680, Loss: 0.0249\n",
      "Epoch   2 Batch  940/1077 - Train Accuracy: 0.9742, Validation Accuracy: 0.9670, Loss: 0.0239\n",
      "Epoch   2 Batch  950/1077 - Train Accuracy: 0.9762, Validation Accuracy: 0.9851, Loss: 0.0176\n",
      "Epoch   2 Batch  960/1077 - Train Accuracy: 0.9743, Validation Accuracy: 0.9748, Loss: 0.0246\n",
      "Epoch   2 Batch  970/1077 - Train Accuracy: 0.9727, Validation Accuracy: 0.9780, Loss: 0.0207\n",
      "Epoch   2 Batch  980/1077 - Train Accuracy: 0.9645, Validation Accuracy: 0.9709, Loss: 0.0201\n",
      "Epoch   2 Batch  990/1077 - Train Accuracy: 0.9877, Validation Accuracy: 0.9663, Loss: 0.0240\n",
      "Epoch   2 Batch 1000/1077 - Train Accuracy: 0.9632, Validation Accuracy: 0.9677, Loss: 0.0212\n",
      "Epoch   2 Batch 1010/1077 - Train Accuracy: 0.9727, Validation Accuracy: 0.9677, Loss: 0.0149\n",
      "Epoch   2 Batch 1020/1077 - Train Accuracy: 0.9801, Validation Accuracy: 0.9773, Loss: 0.0182\n",
      "Epoch   2 Batch 1030/1077 - Train Accuracy: 0.9957, Validation Accuracy: 0.9798, Loss: 0.0166\n",
      "Epoch   2 Batch 1040/1077 - Train Accuracy: 0.9655, Validation Accuracy: 0.9652, Loss: 0.0295\n",
      "Epoch   2 Batch 1050/1077 - Train Accuracy: 0.9891, Validation Accuracy: 0.9677, Loss: 0.0178\n",
      "Epoch   2 Batch 1060/1077 - Train Accuracy: 0.9871, Validation Accuracy: 0.9666, Loss: 0.0133\n",
      "Epoch   2 Batch 1070/1077 - Train Accuracy: 0.9688, Validation Accuracy: 0.9741, Loss: 0.0200\n",
      "Model Trained and Saved\n"
     ]
    }
   ],
   "source": [
    "\"\"\"\n",
    "DON'T MODIFY ANYTHING IN THIS CELL\n",
    "\"\"\"\n",
    "def get_accuracy(target, logits):\n",
    "    \"\"\"\n",
    "    Calculate accuracy\n",
    "    \"\"\"\n",
    "    max_seq = max(target.shape[1], logits.shape[1])\n",
    "    if max_seq - target.shape[1]:\n",
    "        target = np.pad(\n",
    "            target,\n",
    "            [(0,0),(0,max_seq - target.shape[1])],\n",
    "            'constant')\n",
    "    if max_seq - logits.shape[1]:\n",
    "        logits = np.pad(\n",
    "            logits,\n",
    "            [(0,0),(0,max_seq - logits.shape[1])],\n",
    "            'constant')\n",
    "\n",
    "    return np.mean(np.equal(target, logits))\n",
    "\n",
    "# Split data to training and validation sets\n",
    "train_source = source_int_text[batch_size:]\n",
    "train_target = target_int_text[batch_size:]\n",
    "valid_source = source_int_text[:batch_size]\n",
    "valid_target = target_int_text[:batch_size]\n",
    "(valid_sources_batch, valid_targets_batch, valid_sources_lengths, valid_targets_lengths ) = next(get_batches(valid_source,\n",
    "                                                                                                             valid_target,\n",
    "                                                                                                             batch_size,\n",
    "                                                                                                             source_vocab_to_int['<PAD>'],\n",
    "                                                                                                             target_vocab_to_int['<PAD>']))                                                                                                  \n",
    "with tf.Session(graph=train_graph) as sess:\n",
    "    sess.run(tf.global_variables_initializer())\n",
    "\n",
    "    for epoch_i in range(epochs):\n",
    "        for batch_i, (source_batch, target_batch, sources_lengths, targets_lengths) in enumerate(\n",
    "                get_batches(train_source, train_target, batch_size,\n",
    "                            source_vocab_to_int['<PAD>'],\n",
    "                            target_vocab_to_int['<PAD>'])):\n",
    "\n",
    "            _, loss = sess.run(\n",
    "                [train_op, cost],\n",
    "                {input_data: source_batch,\n",
    "                 targets: target_batch,\n",
    "                 lr: learning_rate,\n",
    "                 target_sequence_length: targets_lengths,\n",
    "                 source_sequence_length: sources_lengths,\n",
    "                 keep_prob: keep_probability})\n",
    "\n",
    "\n",
    "            if batch_i % display_step == 0 and batch_i > 0:\n",
    "\n",
    "\n",
    "                batch_train_logits = sess.run(\n",
    "                    inference_logits,\n",
    "                    {input_data: source_batch,\n",
    "                     source_sequence_length: sources_lengths,\n",
    "                     target_sequence_length: targets_lengths,\n",
    "                     keep_prob: 1.0})\n",
    "\n",
    "\n",
    "                batch_valid_logits = sess.run(\n",
    "                    inference_logits,\n",
    "                    {input_data: valid_sources_batch,\n",
    "                     source_sequence_length: valid_sources_lengths,\n",
    "                     target_sequence_length: valid_targets_lengths,\n",
    "                     keep_prob: 1.0})\n",
    "\n",
    "                train_acc = get_accuracy(target_batch, batch_train_logits)\n",
    "\n",
    "                valid_acc = get_accuracy(valid_targets_batch, batch_valid_logits)\n",
    "\n",
    "                print('Epoch {:>3} Batch {:>4}/{} - Train Accuracy: {:>6.4f}, Validation Accuracy: {:>6.4f}, Loss: {:>6.4f}'\n",
    "                      .format(epoch_i, batch_i, len(source_int_text) // batch_size, train_acc, valid_acc, loss))\n",
    "\n",
    "    # Save Model\n",
    "    saver = tf.train.Saver()\n",
    "    saver.save(sess, save_path)\n",
    "    print('Model Trained and Saved')"
   ]
  },
  {
   "cell_type": "markdown",
   "metadata": {},
   "source": [
    "### Save Parameters\n",
    "Save the `batch_size` and `save_path` parameters for inference."
   ]
  },
  {
   "cell_type": "code",
   "execution_count": 42,
   "metadata": {
    "collapsed": true
   },
   "outputs": [],
   "source": [
    "\"\"\"\n",
    "DON'T MODIFY ANYTHING IN THIS CELL\n",
    "\"\"\"\n",
    "# Save parameters for checkpoint\n",
    "helper.save_params(save_path)"
   ]
  },
  {
   "cell_type": "markdown",
   "metadata": {},
   "source": [
    "# Checkpoint"
   ]
  },
  {
   "cell_type": "code",
   "execution_count": 43,
   "metadata": {
    "collapsed": true
   },
   "outputs": [],
   "source": [
    "\"\"\"\n",
    "DON'T MODIFY ANYTHING IN THIS CELL\n",
    "\"\"\"\n",
    "import tensorflow as tf\n",
    "import numpy as np\n",
    "import helper\n",
    "import problem_unittests as tests\n",
    "\n",
    "_, (source_vocab_to_int, target_vocab_to_int), (source_int_to_vocab, target_int_to_vocab) = helper.load_preprocess()\n",
    "load_path = helper.load_params()"
   ]
  },
  {
   "cell_type": "markdown",
   "metadata": {},
   "source": [
    "## Sentence to Sequence\n",
    "To feed a sentence into the model for translation, you first need to preprocess it.  Implement the function `sentence_to_seq()` to preprocess new sentences.\n",
    "\n",
    "- Convert the sentence to lowercase\n",
    "- Convert words into ids using `vocab_to_int`\n",
    " - Convert words not in the vocabulary, to the `<UNK>` word id."
   ]
  },
  {
   "cell_type": "code",
   "execution_count": 44,
   "metadata": {
    "collapsed": false
   },
   "outputs": [
    {
     "name": "stdout",
     "output_type": "stream",
     "text": [
      "Tests Passed\n"
     ]
    }
   ],
   "source": [
    "def sentence_to_seq(sentence, vocab_to_int):\n",
    "    \"\"\"\n",
    "    Convert a sentence to a sequence of ids\n",
    "    :param sentence: String\n",
    "    :param vocab_to_int: Dictionary to go from the words to an id\n",
    "    :return: List of word ids\n",
    "    \"\"\"\n",
    "    # TODO: Implement Function\n",
    "    return [vocab_to_int.get(word, vocab_to_int.get('<UNK>')) for word in sentence.lower().split()]\n",
    "\n",
    "\n",
    "\"\"\"\n",
    "DON'T MODIFY ANYTHING IN THIS CELL THAT IS BELOW THIS LINE\n",
    "\"\"\"\n",
    "tests.test_sentence_to_seq(sentence_to_seq)"
   ]
  },
  {
   "cell_type": "markdown",
   "metadata": {},
   "source": [
    "## Translate\n",
    "This will translate `translate_sentence` from English to French."
   ]
  },
  {
   "cell_type": "code",
   "execution_count": 45,
   "metadata": {
    "collapsed": false
   },
   "outputs": [
    {
     "name": "stdout",
     "output_type": "stream",
     "text": [
      "INFO:tensorflow:Restoring parameters from checkpoints/dev\n",
      "Input\n",
      "  Word Ids:      [230, 67, 171, 40, 60, 14, 42]\n",
      "  English Words: ['he', 'saw', 'a', 'old', 'yellow', 'truck', '.']\n",
      "\n",
      "Prediction\n",
      "  Word Ids:      [204, 153, 73, 250, 193, 251, 246, 191, 1]\n",
      "  French Words: il a vu un vieux camion jaune . <EOS>\n"
     ]
    }
   ],
   "source": [
    "translate_sentence = 'he saw a old yellow truck .'\n",
    "\n",
    "\n",
    "\"\"\"\n",
    "DON'T MODIFY ANYTHING IN THIS CELL\n",
    "\"\"\"\n",
    "translate_sentence = sentence_to_seq(translate_sentence, source_vocab_to_int)\n",
    "\n",
    "loaded_graph = tf.Graph()\n",
    "with tf.Session(graph=loaded_graph) as sess:\n",
    "    # Load saved model\n",
    "    loader = tf.train.import_meta_graph(load_path + '.meta')\n",
    "    loader.restore(sess, load_path)\n",
    "\n",
    "    input_data = loaded_graph.get_tensor_by_name('input:0')\n",
    "    logits = loaded_graph.get_tensor_by_name('predictions:0')\n",
    "    target_sequence_length = loaded_graph.get_tensor_by_name('target_sequence_length:0')\n",
    "    source_sequence_length = loaded_graph.get_tensor_by_name('source_sequence_length:0')\n",
    "    keep_prob = loaded_graph.get_tensor_by_name('keep_prob:0')\n",
    "\n",
    "    translate_logits = sess.run(logits, {input_data: [translate_sentence]*batch_size,\n",
    "                                         target_sequence_length: [len(translate_sentence)*2]*batch_size,\n",
    "                                         source_sequence_length: [len(translate_sentence)]*batch_size,\n",
    "                                         keep_prob: 1.0})[0]\n",
    "\n",
    "print('Input')\n",
    "print('  Word Ids:      {}'.format([i for i in translate_sentence]))\n",
    "print('  English Words: {}'.format([source_int_to_vocab[i] for i in translate_sentence]))\n",
    "\n",
    "print('\\nPrediction')\n",
    "print('  Word Ids:      {}'.format([i for i in translate_logits]))\n",
    "print('  French Words: {}'.format(\" \".join([target_int_to_vocab[i] for i in translate_logits])))\n"
   ]
  },
  {
   "cell_type": "markdown",
   "metadata": {},
   "source": [
    "## Imperfect Translation\n",
    "You might notice that some sentences translate better than others.  Since the dataset you're using only has a vocabulary of 227 English words of the thousands that you use, you're only going to see good results using these words.  For this project, you don't need a perfect translation. However, if you want to create a better translation model, you'll need better data.\n",
    "\n",
    "You can train on the [WMT10 French-English corpus](http://www.statmt.org/wmt10/training-giga-fren.tar).  This dataset has more vocabulary and richer in topics discussed.  However, this will take you days to train, so make sure you've a GPU and the neural network is performing well on dataset we provided.  Just make sure you play with the WMT10 corpus after you've submitted this project.\n",
    "## Submitting This Project\n",
    "When submitting this project, make sure to run all the cells before saving the notebook. Save the notebook file as \"dlnd_language_translation.ipynb\" and save it as a HTML file under \"File\" -> \"Download as\". Include the \"helper.py\" and \"problem_unittests.py\" files in your submission."
   ]
  }
 ],
 "metadata": {
  "anaconda-cloud": {},
  "kernelspec": {
   "display_name": "Python 3",
   "language": "python",
   "name": "python3"
  },
  "language_info": {
   "codemirror_mode": {
    "name": "ipython",
    "version": 3
   },
   "file_extension": ".py",
   "mimetype": "text/x-python",
   "name": "python",
   "nbconvert_exporter": "python",
   "pygments_lexer": "ipython3",
   "version": "3.6.0"
  }
 },
 "nbformat": 4,
 "nbformat_minor": 1
}
